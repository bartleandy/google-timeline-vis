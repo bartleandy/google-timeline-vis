{
 "cells": [
  {
   "cell_type": "code",
   "execution_count": 116,
   "metadata": {},
   "outputs": [
    {
     "name": "stdout",
     "output_type": "stream",
     "text": [
      "Welcome to the project\n"
     ]
    }
   ],
   "source": [
    "import os\n",
    "import sys\n",
    "import json\n",
    "import datetime\n",
    "import numpy as np\n",
    "import pandas as pd\n",
    "import matplotlib.pyplot as plt\n",
    "\n",
    "print (\"Welcome to the project\")\n",
    "# http://www.certainly-strange.com/?p=968"
   ]
  },
  {
   "cell_type": "code",
   "execution_count": 153,
   "metadata": {},
   "outputs": [
    {
     "data": {
      "text/html": [
       "<div>\n",
       "<style scoped>\n",
       "    .dataframe tbody tr th:only-of-type {\n",
       "        vertical-align: middle;\n",
       "    }\n",
       "\n",
       "    .dataframe tbody tr th {\n",
       "        vertical-align: top;\n",
       "    }\n",
       "\n",
       "    .dataframe thead th {\n",
       "        text-align: right;\n",
       "    }\n",
       "</style>\n",
       "<table border=\"1\" class=\"dataframe\">\n",
       "  <thead>\n",
       "    <tr style=\"text-align: right;\">\n",
       "      <th></th>\n",
       "      <th>accuracy</th>\n",
       "      <th>activity</th>\n",
       "      <th>altitude</th>\n",
       "      <th>latitudeE7</th>\n",
       "      <th>longitudeE7</th>\n",
       "      <th>timestampMs</th>\n",
       "      <th>verticalAccuracy</th>\n",
       "    </tr>\n",
       "  </thead>\n",
       "  <tbody>\n",
       "    <tr>\n",
       "      <th>0</th>\n",
       "      <td>15</td>\n",
       "      <td>NaN</td>\n",
       "      <td>1091</td>\n",
       "      <td>459175399</td>\n",
       "      <td>68675439</td>\n",
       "      <td>1538133408059</td>\n",
       "      <td>8</td>\n",
       "    </tr>\n",
       "    <tr>\n",
       "      <th>1</th>\n",
       "      <td>15</td>\n",
       "      <td>NaN</td>\n",
       "      <td>1091</td>\n",
       "      <td>459175399</td>\n",
       "      <td>68675439</td>\n",
       "      <td>1538132401032</td>\n",
       "      <td>8</td>\n",
       "    </tr>\n",
       "    <tr>\n",
       "      <th>2</th>\n",
       "      <td>15</td>\n",
       "      <td>[{'timestampMs': '1538131547878', 'activity': ...</td>\n",
       "      <td>1091</td>\n",
       "      <td>459175399</td>\n",
       "      <td>68675439</td>\n",
       "      <td>1538131590095</td>\n",
       "      <td>8</td>\n",
       "    </tr>\n",
       "    <tr>\n",
       "      <th>3</th>\n",
       "      <td>15</td>\n",
       "      <td>[{'timestampMs': '1538131122529', 'activity': ...</td>\n",
       "      <td>1091</td>\n",
       "      <td>459175399</td>\n",
       "      <td>68675439</td>\n",
       "      <td>1538130990064</td>\n",
       "      <td>8</td>\n",
       "    </tr>\n",
       "    <tr>\n",
       "      <th>4</th>\n",
       "      <td>15</td>\n",
       "      <td>NaN</td>\n",
       "      <td>1091</td>\n",
       "      <td>459175399</td>\n",
       "      <td>68675439</td>\n",
       "      <td>1538130095091</td>\n",
       "      <td>8</td>\n",
       "    </tr>\n",
       "  </tbody>\n",
       "</table>\n",
       "</div>"
      ],
      "text/plain": [
       "   accuracy                                           activity  altitude  \\\n",
       "0        15                                                NaN      1091   \n",
       "1        15                                                NaN      1091   \n",
       "2        15  [{'timestampMs': '1538131547878', 'activity': ...      1091   \n",
       "3        15  [{'timestampMs': '1538131122529', 'activity': ...      1091   \n",
       "4        15                                                NaN      1091   \n",
       "\n",
       "   latitudeE7  longitudeE7    timestampMs  verticalAccuracy  \n",
       "0   459175399     68675439  1538133408059                 8  \n",
       "1   459175399     68675439  1538132401032                 8  \n",
       "2   459175399     68675439  1538131590095                 8  \n",
       "3   459175399     68675439  1538130990064                 8  \n",
       "4   459175399     68675439  1538130095091                 8  "
      ]
     },
     "execution_count": 153,
     "metadata": {},
     "output_type": "execute_result"
    }
   ],
   "source": [
    "# Load google timeline data\n",
    "#locationData = \"/Users/andybartle/Dropbox/GIS_database_projects/Google-timeline-extract-20180928/LocationHistory/LocationHistory.json\"\n",
    "locationData = \"trial-data.json\"\n",
    "with open(locationData) as data_file:\n",
    "    data = json.load(data_file)\n",
    "    df = pd.DataFrame.from_dict(data['locations'])\n",
    "\n",
    "# View data\n",
    "df.head(5)"
   ]
  },
  {
   "cell_type": "code",
   "execution_count": 154,
   "metadata": {
    "scrolled": false
   },
   "outputs": [
    {
     "data": {
      "text/html": [
       "<div>\n",
       "<style scoped>\n",
       "    .dataframe tbody tr th:only-of-type {\n",
       "        vertical-align: middle;\n",
       "    }\n",
       "\n",
       "    .dataframe tbody tr th {\n",
       "        vertical-align: top;\n",
       "    }\n",
       "\n",
       "    .dataframe thead th {\n",
       "        text-align: right;\n",
       "    }\n",
       "</style>\n",
       "<table border=\"1\" class=\"dataframe\">\n",
       "  <thead>\n",
       "    <tr style=\"text-align: right;\">\n",
       "      <th></th>\n",
       "      <th>accuracy</th>\n",
       "      <th>latitudeE7</th>\n",
       "      <th>longitudeE7</th>\n",
       "      <th>timestampMs</th>\n",
       "    </tr>\n",
       "  </thead>\n",
       "  <tbody>\n",
       "    <tr>\n",
       "      <th>0</th>\n",
       "      <td>15</td>\n",
       "      <td>459175399</td>\n",
       "      <td>68675439</td>\n",
       "      <td>1538133408059</td>\n",
       "    </tr>\n",
       "    <tr>\n",
       "      <th>1</th>\n",
       "      <td>15</td>\n",
       "      <td>459175399</td>\n",
       "      <td>68675439</td>\n",
       "      <td>1538132401032</td>\n",
       "    </tr>\n",
       "    <tr>\n",
       "      <th>2</th>\n",
       "      <td>15</td>\n",
       "      <td>459175399</td>\n",
       "      <td>68675439</td>\n",
       "      <td>1538131590095</td>\n",
       "    </tr>\n",
       "    <tr>\n",
       "      <th>3</th>\n",
       "      <td>15</td>\n",
       "      <td>459175399</td>\n",
       "      <td>68675439</td>\n",
       "      <td>1538130990064</td>\n",
       "    </tr>\n",
       "    <tr>\n",
       "      <th>4</th>\n",
       "      <td>15</td>\n",
       "      <td>459175399</td>\n",
       "      <td>68675439</td>\n",
       "      <td>1538130095091</td>\n",
       "    </tr>\n",
       "  </tbody>\n",
       "</table>\n",
       "</div>"
      ],
      "text/plain": [
       "   accuracy  latitudeE7  longitudeE7    timestampMs\n",
       "0        15   459175399     68675439  1538133408059\n",
       "1        15   459175399     68675439  1538132401032\n",
       "2        15   459175399     68675439  1538131590095\n",
       "3        15   459175399     68675439  1538130990064\n",
       "4        15   459175399     68675439  1538130095091"
      ]
     },
     "execution_count": 154,
     "metadata": {},
     "output_type": "execute_result"
    }
   ],
   "source": [
    "# Tidy data\n",
    "# get rid of surplus columns\n",
    "df = tl.drop(['activity', 'altitude', 'verticalAccuracy'], axis=1)\n",
    "df.head(5)"
   ]
  },
  {
   "cell_type": "code",
   "execution_count": 155,
   "metadata": {},
   "outputs": [
    {
     "name": "stdout",
     "output_type": "stream",
     "text": [
      "    accuracy  latitudeE7  longitudeE7    timestampMs\n",
      "0         15   45.917540     6.867544  1538133408059\n",
      "1         15   45.917540     6.867544  1538132401032\n",
      "2         15   45.917540     6.867544  1538131590095\n",
      "3         15   45.917540     6.867544  1538130990064\n",
      "4         15   45.917540     6.867544  1538130095091\n",
      "5         16   45.917538     6.867535  1538130067539\n",
      "6         16   45.917535     6.867562  1538129609065\n",
      "7         16   45.917535     6.867562  1538128989082\n",
      "8         16   45.917535     6.867562  1538128372737\n",
      "9         16   45.917535     6.867562  1538127869079\n",
      "10        13   45.917530     6.867561  1538127245855\n",
      "11        13   45.917533     6.867569  1538126739105\n",
      "12        13   45.917545     6.867552  1538126118447\n",
      "13        13   45.917545     6.867552  1538125515618\n",
      "14        13   45.917506     6.867580  1538125195108\n",
      "15        13   45.917506     6.867580  1538124540689\n",
      "16        14   45.917544     6.867553  1538124494158\n",
      "17        13   45.917465     6.867589  1538124312869\n",
      "18        13   45.917496     6.867583  1538124282227\n",
      "19        13   45.917494     6.867574  1538124238510\n"
     ]
    }
   ],
   "source": [
    "# Covert lat and long from E7 (/1e7)\n",
    "df.loc[:, 'latitudeE7'] = df['latitudeE7'] / 1e7\n",
    "df.loc[:, 'longitudeE7'] = df['longitudeE7'] / 1e7\n",
    "# Convert posix milliseconds to date and time \n",
    "\n",
    "df.head(5)\n",
    "print(df)"
   ]
  },
  {
   "cell_type": "code",
   "execution_count": 152,
   "metadata": {},
   "outputs": [
    {
     "name": "stdout",
     "output_type": "stream",
     "text": [
      "             accuracy  latitudeE7  longitudeE7    timestampMs  ifor\n",
      "0                15.0   45.917540     6.867544  1538133408059   NaN\n",
      "1                15.0   45.917540     6.867544  1538132401032   NaN\n",
      "2                15.0   45.917540     6.867544  1538131590095   NaN\n",
      "3                15.0   45.917540     6.867544  1538130990064   NaN\n",
      "4                15.0   45.917540     6.867544  1538130095091   NaN\n",
      "5                16.0   45.917538     6.867535  1538130067539   NaN\n",
      "6                16.0   45.917535     6.867562  1538129609065   NaN\n",
      "7                16.0   45.917535     6.867562  1538128989082   NaN\n",
      "8                16.0   45.917535     6.867562  1538128372737   NaN\n",
      "9                16.0   45.917535     6.867562  1538127869079   NaN\n",
      "10               13.0   45.917530     6.867561  1538127245855   NaN\n",
      "11               13.0   45.917533     6.867569  1538126739105   NaN\n",
      "12               13.0   45.917545     6.867552  1538126118447   NaN\n",
      "13               13.0   45.917545     6.867552  1538125515618   NaN\n",
      "14               13.0   45.917506     6.867580  1538125195108   NaN\n",
      "15               13.0   45.917506     6.867580  1538124540689   NaN\n",
      "16               14.0   45.917544     6.867553  1538124494158   NaN\n",
      "17               13.0   45.917465     6.867589  1538124312869   NaN\n",
      "18               13.0   45.917496     6.867583  1538124282227   NaN\n",
      "19               13.0   45.917494     6.867574  1538124238510   NaN\n",
      "accuracy          NaN         NaN          NaN              2   2.0\n",
      "latitudeE7        NaN         NaN          NaN              2   2.0\n",
      "longitudeE7       NaN         NaN          NaN              2   2.0\n",
      "timestampMs       2.0    2.000000     2.000000              2   2.0\n",
      "ifor              NaN         NaN          NaN              2   2.0\n"
     ]
    }
   ],
   "source": [
    "datetime.datetime.fromtimestamp(1538133408059/1000.0)\n",
    "\n",
    "for i, row in df.iteritems():\n",
    "    df.at['timestampMs', i] = 2\n",
    "\n",
    "print(df)"
   ]
  },
  {
   "cell_type": "code",
   "execution_count": 151,
   "metadata": {},
   "outputs": [
    {
     "data": {
      "text/plain": [
       "<matplotlib.axes._subplots.AxesSubplot at 0x11eda20f0>"
      ]
     },
     "execution_count": 151,
     "metadata": {},
     "output_type": "execute_result"
    },
    {
     "data": {
      "image/png": "[encoded data removed]",
      "text/plain": [
       "<matplotlib.figure.Figure at 0x11ecb7710>"
      ]
     },
     "metadata": {
      "needs_background": "light"
     },
     "output_type": "display_data"
    }
   ],
   "source": [
    "# Plot data\n",
    "tl.plot(x='latitudeE7', y='longitudeE7', style='o')"
   ]
  },
  {
   "cell_type": "code",
   "execution_count": 59,
   "metadata": {},
   "outputs": [
    {
     "data": {
      "text/plain": [
       "'0.22.0'"
      ]
     },
     "execution_count": 59,
     "metadata": {},
     "output_type": "execute_result"
    }
   ],
   "source": [
    "pd.__version__"
   ]
  },
  {
   "cell_type": "code",
   "execution_count": 73,
   "metadata": {},
   "outputs": [],
   "source": [
    "\n",
    "\n",
    "for result in data['locations']:\n",
    "    timestamp = result['timestampMs']\n",
    "    latitude = result['latitudeE7']\n",
    "    longitude = result['longitudeE7']\n",
    "    accuracy = result['accuracy']\n",
    "    "
   ]
  },
  {
   "cell_type": "code",
   "execution_count": null,
   "metadata": {},
   "outputs": [],
   "source": []
  },
  {
   "cell_type": "code",
   "execution_count": null,
   "metadata": {},
   "outputs": [],
   "source": []
  }
 ],
 "metadata": {
  "kernelspec": {
   "display_name": "Python 3",
   "language": "python",
   "name": "python3"
  },
  "language_info": {
   "codemirror_mode": {
    "name": "ipython",
    "version": 3
   },
   "file_extension": ".py",
   "mimetype": "text/x-python",
   "name": "python",
   "nbconvert_exporter": "python",
   "pygments_lexer": "ipython3",
   "version": "3.6.4"
  }
 },
 "nbformat": 4,
 "nbformat_minor": 2
}
